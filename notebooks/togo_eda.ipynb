{
 "cells": [
  {
   "cell_type": "code",
   "execution_count": null,
   "metadata": {},
   "outputs": [],
   "source": [
    "# Cell 1: Import the Module\n",
    "import sys\n",
    "sys.path.append('../src')\n",
    "from eda_class import SolarEDA\n",
    "\n",
    "# Cell 2: Initialize the EDA Class\n",
    "data_path = r\"C:\\Users\\Senayit\\Documents\\tenx\\solar-challenge-week1\\data\\togo-dapaong_qc.csv\"\n",
    "eda = SolarEDA(data_path)\n",
    "\n",
    "# Cell 3: Summary Statistics\n",
    "numeric_cols = ['GHI', 'DNI', 'DHI', 'ModA', 'ModB', 'Tamb', 'RH', 'WS', 'WSgust', 'BP', 'TModA', 'TModB']\n",
    "eda.summary_statistics(numeric_cols)\n",
    "\n",
    "# Cell 4: Missing Values Report\n",
    "eda.missing_values_report()\n",
    "\n",
    "# Cell 5: Outlier Detection\n",
    "eda.detect_outliers()\n",
    "\n",
    "# Cell 6: Clean Data\n",
    "eda.clean_data('data/togo_clean.csv')\n",
    "\n",
    "# Cell 7: Time Series Analysis\n",
    "eda.time_series_analysis()\n",
    "\n",
    "# Cell 8: Cleaning Impact\n",
    "eda.cleaning_impact()\n",
    "\n",
    "# Cell 9: Correlation Analysis\n",
    "corr_cols = ['GHI', 'DNI', 'DHI', 'TModA', 'TModB']\n",
    "eda.correlation_analysis(corr_cols)\n",
    "\n",
    "# Cell 10: Scatter Plots\n",
    "eda.scatter_plots()\n",
    "\n",
    "# Cell 11: Distribution Analysis\n",
    "eda.distribution_analysis()\n",
    "\n",
    "# Cell 12: Temperature and Humidity Analysis\n",
    "eda.temperature_humidity_analysis()\n",
    "\n",
    "# Cell 13: Markdown Summary (Update after running on PC)\n",
    "\"\"\"\n",
    "### Togo EDA Insights\n",
    "- **Solar Potential**: GHI peaks in [insert months], with a maximum of [insert max GHI] W/m², suggesting potential for solar installations.\n",
    "- **Cleaning Impact**: Cleaning increases ModA/ModB by [insert percentage], enhancing efficiency.\n",
    "- **Environmental Factors**: GHI trends with RH [insert observation].\n",
    "### Strategy Recommendation\n",
    "Prioritize Togo for solar investments in [insert peak months], with regular cleaning and [insert environmental strategy].\n",
    "\"\"\""
   ]
  }
 ],
 "metadata": {
  "kernelspec": {
   "display_name": "Python 3",
   "language": "python",
   "name": "python3"
  },
  "language_info": {
   "codemirror_mode": {
    "name": "ipython",
    "version": 3
   },
   "file_extension": ".py",
   "mimetype": "text/x-python",
   "name": "python",
   "nbconvert_exporter": "python",
   "pygments_lexer": "ipython3",
   "version": "3.11.4"
  }
 },
 "nbformat": 4,
 "nbformat_minor": 2
}
